{
 "cells": [
  {
   "cell_type": "code",
   "execution_count": 1,
   "metadata": {},
   "outputs": [],
   "source": [
    "import pandas as pd\n",
    "import numpy as np\n",
    "from sklearn.preprocessing import StandardScaler\n",
    "from sklearn.model_selection import train_test_split\n",
    "from sklearn.linear_model import Ridge, Lasso\n",
    "from sklearn.neighbors import KNeighborsRegressor\n",
    "from sklearn.tree import DecisionTreeRegressor\n",
    "from sklearn.svm import SVR\n",
    "from tqdm import tqdm\n",
    "from time import time"
   ]
  },
  {
   "cell_type": "code",
   "execution_count": 2,
   "metadata": {},
   "outputs": [],
   "source": [
    "train = pd.read_csv('train.csv') #Load data\n",
    "train.drop('Id', axis=1, inplace=True) #Drop ID column\n",
    "\n",
    "# Change categorical variables from object type to category type\n",
    "for column in train.select_dtypes(['object']).columns: \n",
    "    train[column] = train[column].astype('category')\n",
    "\n",
    "# Change certain numeric variables into categorical variables\n",
    "to_be_category = ['MSSubClass', 'OverallQual', 'OverallCond', 'BsmtFullBath', 'BsmtHalfBath', 'FullBath', \n",
    "                 'HalfBath', 'BedroomAbvGr', 'KitchenAbvGr', 'TotRmsAbvGrd', 'Fireplaces', 'GarageCars', 'MoSold']\n",
    "for column in to_be_category:\n",
    "    train[column] = train[column].astype('category')"
   ]
  },
  {
   "cell_type": "code",
   "execution_count": 3,
   "metadata": {},
   "outputs": [],
   "source": [
    "# Replace NA's in numeric variables with the mean\n",
    "train.LotFrontage.fillna(train.LotFrontage.mean(), inplace=True)\n",
    "train.MasVnrArea.fillna(train.MasVnrArea.mean(), inplace=True)\n",
    "train.GarageYrBlt.fillna(train.GarageYrBlt.mean(), inplace=True)\n",
    "\n",
    "# These NA's indicate that the house just doesn't have it\n",
    "empty_means_without = ['Alley','BsmtQual','BsmtCond','BsmtExposure','BsmtFinType1', 'BsmtFinType2', 'FireplaceQu',\n",
    "                       'GarageType','GarageFinish','GarageQual','GarageCond','PoolQC','Fence','MiscFeature']\n",
    "for feature in empty_means_without:\n",
    "    train[feature].cat.add_categories(['None'], inplace=True)\n",
    "    train[feature].fillna('None', inplace=True)\n"
   ]
  },
  {
   "cell_type": "code",
   "execution_count": 4,
   "metadata": {},
   "outputs": [],
   "source": [
    "train = pd.get_dummies(train) #One-hot encode\n",
    "train = np.log(train + 1) #Deskew\n",
    "train = train - train.mean()/(2*train.std()) #Scaling using Gelman's method of 2 SD\n",
    "\n",
    "target = train['SalePrice']\n",
    "features = train.drop(['SalePrice'], axis = 1)\n"
   ]
  },
  {
   "cell_type": "code",
   "execution_count": 5,
   "metadata": {},
   "outputs": [],
   "source": [
    "\n",
    "# Running the Model\n",
    "def train_model(model, model_name, features, target):\n",
    "    \n",
    "    X_train, X_test, y_train, y_test = train_test_split(features, target, random_state = 100)\n",
    "    model.fit(X_train,y_train)\n",
    "    model.predict(X_train)\n",
    "    model.predict(X_test)\n",
    "    return {\n",
    "            'Model' : model,\n",
    "            'Model Name' : model_name,\n",
    "            'Train Score' : model.score(X_train, y_train),\n",
    "            'Test Score' : model.score(X_test, y_test),\n",
    "    }\n",
    "model_fit = []"
   ]
  },
  {
   "cell_type": "code",
   "execution_count": 6,
   "metadata": {},
   "outputs": [],
   "source": [
    "model_fit.append(train_model(Ridge(), 'Ridge', features, target))\n",
    "\n",
    "model_fit.append(train_model(Lasso(alpha = 0.1), 'Lasso', features, target))\n",
    "\n",
    "model_fit.append(train_model(KNeighborsRegressor(), 'KNN', features, target))\n",
    "\n",
    "model_fit.append(train_model(DecisionTreeRegressor(), 'Decision Tree', features, target))\n",
    "\n",
    "model_fit.append(train_model(SVR(), 'SVR', features, target))\n",
    "\n"
   ]
  },
  {
   "cell_type": "code",
   "execution_count": 7,
   "metadata": {},
   "outputs": [
    {
     "data": {
      "text/html": [
       "<div>\n",
       "<style scoped>\n",
       "    .dataframe tbody tr th:only-of-type {\n",
       "        vertical-align: middle;\n",
       "    }\n",
       "\n",
       "    .dataframe tbody tr th {\n",
       "        vertical-align: top;\n",
       "    }\n",
       "\n",
       "    .dataframe thead th {\n",
       "        text-align: right;\n",
       "    }\n",
       "</style>\n",
       "<table border=\"1\" class=\"dataframe\">\n",
       "  <thead>\n",
       "    <tr style=\"text-align: right;\">\n",
       "      <th></th>\n",
       "      <th>Model Name</th>\n",
       "      <th>Model</th>\n",
       "      <th>Train Score</th>\n",
       "      <th>Test Score</th>\n",
       "    </tr>\n",
       "  </thead>\n",
       "  <tbody>\n",
       "    <tr>\n",
       "      <th>0</th>\n",
       "      <td>Ridge</td>\n",
       "      <td>Ridge()</td>\n",
       "      <td>0.950419</td>\n",
       "      <td>0.888035</td>\n",
       "    </tr>\n",
       "    <tr>\n",
       "      <th>1</th>\n",
       "      <td>Lasso</td>\n",
       "      <td>Lasso(alpha=0.1)</td>\n",
       "      <td>0.437001</td>\n",
       "      <td>0.424683</td>\n",
       "    </tr>\n",
       "    <tr>\n",
       "      <th>2</th>\n",
       "      <td>KNN</td>\n",
       "      <td>KNeighborsRegressor()</td>\n",
       "      <td>0.759778</td>\n",
       "      <td>0.644880</td>\n",
       "    </tr>\n",
       "    <tr>\n",
       "      <th>3</th>\n",
       "      <td>Decision Tree</td>\n",
       "      <td>DecisionTreeRegressor()</td>\n",
       "      <td>1.000000</td>\n",
       "      <td>0.720764</td>\n",
       "    </tr>\n",
       "    <tr>\n",
       "      <th>4</th>\n",
       "      <td>SVR</td>\n",
       "      <td>SVR()</td>\n",
       "      <td>-0.003990</td>\n",
       "      <td>-0.003498</td>\n",
       "    </tr>\n",
       "  </tbody>\n",
       "</table>\n",
       "</div>"
      ],
      "text/plain": [
       "      Model Name                    Model  Train Score  Test Score\n",
       "0          Ridge                  Ridge()     0.950419    0.888035\n",
       "1          Lasso         Lasso(alpha=0.1)     0.437001    0.424683\n",
       "2            KNN    KNeighborsRegressor()     0.759778    0.644880\n",
       "3  Decision Tree  DecisionTreeRegressor()     1.000000    0.720764\n",
       "4            SVR                    SVR()    -0.003990   -0.003498"
      ]
     },
     "execution_count": 7,
     "metadata": {},
     "output_type": "execute_result"
    }
   ],
   "source": [
    "model_fit = pd.DataFrame(model_fit)\n",
    "cols = ['Model Name','Model', 'Train Score', 'Test Score']\n",
    "model_fit = model_fit[cols]\n",
    "model_fit"
   ]
  },
  {
   "cell_type": "code",
   "execution_count": null,
   "metadata": {},
   "outputs": [],
   "source": []
  }
 ],
 "metadata": {
  "kernelspec": {
   "display_name": "Python 3",
   "language": "python",
   "name": "python3"
  },
  "language_info": {
   "codemirror_mode": {
    "name": "ipython",
    "version": 3
   },
   "file_extension": ".py",
   "mimetype": "text/x-python",
   "name": "python",
   "nbconvert_exporter": "python",
   "pygments_lexer": "ipython3",
   "version": "3.8.5"
  }
 },
 "nbformat": 4,
 "nbformat_minor": 4
}
