{
 "cells": [
  {
   "cell_type": "markdown",
   "metadata": {},
   "source": [
    "# Hyperpararameter Turning\n"
   ]
  },
  {
   "cell_type": "code",
   "execution_count": 1,
   "metadata": {},
   "outputs": [],
   "source": [
    "import warnings\n",
    "warnings.filterwarnings('ignore')\n",
    "\n",
    "import pandas as pd\n",
    "import numpy as np\n",
    "import matplotlib.pyplot as plt\n",
    "import seaborn as sns\n",
    "\n",
    "from sklearn.model_selection import GridSearchCV, ShuffleSplit, StratifiedShuffleSplit, train_test_split\n",
    "from sklearn.linear_model import Ridge, Lasso\n",
    "from sklearn.neighbors import KNeighborsRegressor\n",
    "from sklearn.tree import DecisionTreeRegressor\n",
    "from sklearn.svm import SVR\n",
    "from sklearn.metrics import accuracy_score, f1_score\n",
    "\n",
    "from tqdm import tqdm"
   ]
  },
  {
   "cell_type": "markdown",
   "metadata": {},
   "source": [
    "## Data preparation"
   ]
  },
  {
   "cell_type": "code",
   "execution_count": 2,
   "metadata": {},
   "outputs": [],
   "source": [
    "train = pd.read_csv('train.csv') #Load data\n",
    "train.drop('Id', axis=1, inplace=True) #Drop ID column\n",
    "\n",
    "# Change categorical variables from object type to category type\n",
    "for column in train.select_dtypes(['object']).columns: \n",
    "        train[column] = train[column].astype('category')\n",
    "\n",
    "    # Change certain numeric variables into categorical variables\n",
    "to_be_category = ['MSSubClass', 'OverallQual', 'OverallCond', 'BsmtFullBath', 'BsmtHalfBath', 'FullBath', \n",
    "                     'HalfBath', 'BedroomAbvGr', 'KitchenAbvGr', 'TotRmsAbvGrd', 'Fireplaces', 'GarageCars', 'MoSold']\n",
    "for column in to_be_category:\n",
    "    train[column] = train[column].astype('category')\n",
    "\n",
    "    # Replace NA's in numeric variables with the mean\n",
    "train.LotFrontage.fillna(train.LotFrontage.mean(), inplace=True)\n",
    "train.MasVnrArea.fillna(train.MasVnrArea.mean(), inplace=True)\n",
    "train.GarageYrBlt.fillna(train.GarageYrBlt.mean(), inplace=True)\n",
    "\n",
    "    # These NA's indicate that the house just doesn't have it\n",
    "empty_means_without = ['Alley','BsmtQual','BsmtCond','BsmtExposure','BsmtFinType1', 'BsmtFinType2', 'FireplaceQu',\n",
    "                           'GarageType','GarageFinish','GarageQual','GarageCond','PoolQC','Fence','MiscFeature']\n",
    "for feature in empty_means_without:\n",
    "    train[feature].cat.add_categories(['None'], inplace=True)\n",
    "    train[feature].fillna('None', inplace=True)\n",
    "\n",
    "train.dropna(inplace=True) #Drop any remaining NA's\n",
    "\n",
    "train = pd.get_dummies(train) #One-hot encode\n",
    "train = np.log(train + 1) #Deskew\n",
    "train = train - train.mean()/(2*train.std()) #Scaling using Gelman's method of 2 SD\n",
    "\n",
    "target = train['SalePrice']\n",
    "features = train.drop(['SalePrice'], axis = 1)"
   ]
  },
  {
   "cell_type": "markdown",
   "metadata": {},
   "source": [
    "## Cross-validation\n",
    "\n",
    "Cross-validation is a method for getting a reliable estimate of model performance using only the training data. We will be looking at the most common one, the 10-fold cross-validation, which breaks the training data into 10 equal folds, essentially creating 10 miniature train/test splits."
   ]
  },
  {
   "cell_type": "code",
   "execution_count": 3,
   "metadata": {},
   "outputs": [],
   "source": [
    "models = {\n",
    "    'Ridge' : Ridge(),\n",
    "    'Lasso' : Lasso(),\n",
    "    'KNN' : KNeighborsRegressor(),\n",
    "    'Decision Tree' : DecisionTreeRegressor(),\n",
    "    'SVM' : SVR(),\n",
    "}\n",
    "\n",
    "model_params = {\n",
    "    'Ridge' : {'alpha': range(1,50)},\n",
    "    'Lasso' : {'alpha' : np.linspace(1,1,20)},\n",
    "    'KNN' : {'n_neighbors': range(1,20)},\n",
    "    'Decision Tree' : {'max_depth': range(1,50)},\n",
    "    'SVM' : {'C': np.arange(0,50,0.1)},\n",
    "}"
   ]
  },
  {
   "cell_type": "code",
   "execution_count": 4,
   "metadata": {},
   "outputs": [],
   "source": [
    "# Function to run 10 fold Grid Search CV on each model\n",
    "def run_grid_search(model_name, x_train, x_test, y_train, y_test):\n",
    "        \n",
    "    model = models[model_name]\n",
    "    params = model_params[model_name]\n",
    "    gs = GridSearchCV(model, param_grid = params, cv = 10, return_train_score = True)\n",
    "    gs.fit(x_train, y_train)\n",
    "    \n",
    "    return {\n",
    "        'Model Name' : model_name,\n",
    "        'Best Parameter' : gs.best_params_,\n",
    "        'Train Score' : gs.best_score_,\n",
    "        'Test Score' : gs.score(x_test, y_test)\n",
    "    }"
   ]
  },
  {
   "cell_type": "code",
   "execution_count": 7,
   "metadata": {},
   "outputs": [
    {
     "name": "stderr",
     "output_type": "stream",
     "text": [
      "100%|███████████████████████████████████████████████████████████████████████████████████| 5/5 [55:10<00:00, 662.17s/it]\n"
     ]
    }
   ],
   "source": [
    "x_train, x_test, y_train, y_test = train_test_split(features, target, test_size = .3, random_state = 100)\n",
    "\n",
    "results = []\n",
    "for model_name in tqdm(models.keys()):\n",
    "    results.append(run_grid_search(model_name, x_train, x_test, y_train, y_test))"
   ]
  },
  {
   "cell_type": "code",
   "execution_count": 6,
   "metadata": {},
   "outputs": [
    {
     "data": {
      "text/html": [
       "<div>\n",
       "<style scoped>\n",
       "    .dataframe tbody tr th:only-of-type {\n",
       "        vertical-align: middle;\n",
       "    }\n",
       "\n",
       "    .dataframe tbody tr th {\n",
       "        vertical-align: top;\n",
       "    }\n",
       "\n",
       "    .dataframe thead th {\n",
       "        text-align: right;\n",
       "    }\n",
       "</style>\n",
       "<table border=\"1\" class=\"dataframe\">\n",
       "  <thead>\n",
       "    <tr style=\"text-align: right;\">\n",
       "      <th></th>\n",
       "      <th>Model Name</th>\n",
       "      <th>Best Parameter</th>\n",
       "      <th>Train Score</th>\n",
       "      <th>Test Score</th>\n",
       "    </tr>\n",
       "  </thead>\n",
       "  <tbody>\n",
       "    <tr>\n",
       "      <th>0</th>\n",
       "      <td>Ridge</td>\n",
       "      <td>{'alpha': 6}</td>\n",
       "      <td>0.887363</td>\n",
       "      <td>0.894740</td>\n",
       "    </tr>\n",
       "    <tr>\n",
       "      <th>1</th>\n",
       "      <td>Lasso</td>\n",
       "      <td>{'alpha': 1.0}</td>\n",
       "      <td>-0.004885</td>\n",
       "      <td>-0.000534</td>\n",
       "    </tr>\n",
       "    <tr>\n",
       "      <th>2</th>\n",
       "      <td>KNN</td>\n",
       "      <td>{'n_neighbors': 3}</td>\n",
       "      <td>0.613423</td>\n",
       "      <td>0.640427</td>\n",
       "    </tr>\n",
       "    <tr>\n",
       "      <th>3</th>\n",
       "      <td>Decision Tree</td>\n",
       "      <td>{'max_depth': 6}</td>\n",
       "      <td>0.727341</td>\n",
       "      <td>0.765176</td>\n",
       "    </tr>\n",
       "    <tr>\n",
       "      <th>4</th>\n",
       "      <td>SVM</td>\n",
       "      <td>{'C': 49.900000000000006}</td>\n",
       "      <td>0.056250</td>\n",
       "      <td>0.071986</td>\n",
       "    </tr>\n",
       "  </tbody>\n",
       "</table>\n",
       "</div>"
      ],
      "text/plain": [
       "      Model Name             Best Parameter  Train Score  Test Score\n",
       "0          Ridge               {'alpha': 6}     0.887363    0.894740\n",
       "1          Lasso             {'alpha': 1.0}    -0.004885   -0.000534\n",
       "2            KNN         {'n_neighbors': 3}     0.613423    0.640427\n",
       "3  Decision Tree           {'max_depth': 6}     0.727341    0.765176\n",
       "4            SVM  {'C': 49.900000000000006}     0.056250    0.071986"
      ]
     },
     "execution_count": 6,
     "metadata": {},
     "output_type": "execute_result"
    }
   ],
   "source": [
    "results = pd.DataFrame(results)\n",
    "cols = ['Model Name','Best Parameter', 'Train Score', 'Test Score']\n",
    "results = results[cols]\n",
    "results"
   ]
  },
  {
   "cell_type": "code",
   "execution_count": null,
   "metadata": {},
   "outputs": [],
   "source": []
  }
 ],
 "metadata": {
  "kernelspec": {
   "display_name": "Python 3",
   "language": "python",
   "name": "python3"
  },
  "language_info": {
   "codemirror_mode": {
    "name": "ipython",
    "version": 3
   },
   "file_extension": ".py",
   "mimetype": "text/x-python",
   "name": "python",
   "nbconvert_exporter": "python",
   "pygments_lexer": "ipython3",
   "version": "3.8.5"
  }
 },
 "nbformat": 4,
 "nbformat_minor": 4
}
