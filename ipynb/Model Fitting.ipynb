{
 "cells": [
  {
   "cell_type": "code",
   "execution_count": null,
   "metadata": {},
   "outputs": [],
   "source": [
    "import pandas as pd\n",
    "import numpy as np\n",
    "from sklearn.preprocessing import StandardScaler\n",
    "from sklearn.model_selection import train_test_split\n",
    "from sklearn.linear_model import Ridge, Lasso\n",
    "from sklearn.neighbors import KNeighborsRegressor\n",
    "from sklearn.tree import DecisionTreeRegressor\n",
    "from sklearn.svm import SVR\n",
    "from tqdm import tqdm\n",
    "from time import time\n",
    "train = pd.read_csv('train.csv') #Load data\n",
    "train.drop('Id', axis=1, inplace=True) #Drop ID column\n",
    "\n",
    "# Change categorical variables from object type to category type\n",
    "for column in train.select_dtypes(['object']).columns: \n",
    "    train[column] = train[column].astype('category')\n",
    "\n",
    "# Change certain numeric variables into categorical variables\n",
    "to_be_category = ['MSSubClass', 'OverallQual', 'OverallCond', 'BsmtFullBath', 'BsmtHalfBath', 'FullBath', \n",
    "                 'HalfBath', 'BedroomAbvGr', 'KitchenAbvGr', 'TotRmsAbvGrd', 'Fireplaces', 'GarageCars', 'MoSold']\n",
    "for column in to_be_category:\n",
    "    train[column] = train[column].astype('category')\n",
    "\n",
    "# Replace NA's in numeric variables with the mean\n",
    "train.LotFrontage.fillna(train.LotFrontage.mean(), inplace=True)\n",
    "train.MasVnrArea.fillna(train.MasVnrArea.mean(), inplace=True)\n",
    "train.GarageYrBlt.fillna(train.GarageYrBlt.mean(), inplace=True)\n",
    "\n",
    "# These NA's indicate that the house just doesn't have it\n",
    "empty_means_without = ['Alley','BsmtQual','BsmtCond','BsmtExposure','BsmtFinType1', 'BsmtFinType2', 'FireplaceQu',\n",
    "                       'GarageType','GarageFinish','GarageQual','GarageCond','PoolQC','Fence','MiscFeature']\n",
    "for feature in empty_means_without:\n",
    "    train[feature].cat.add_categories(['None'], inplace=True)\n",
    "    train[feature].fillna('None', inplace=True)\n",
    "train.dropna(inplace=True) #Drop any remaining NA's"
   ]
  },
  {
   "cell_type": "code",
   "execution_count": null,
   "metadata": {},
   "outputs": [],
   "source": [
    "train = pd.get_dummies(train) #One-hot encode\n",
    "train = np.log(train + 1) #Deskew\n",
    "train = train - train.mean()/(2*train.std()) #Scaling using Gelman's method of 2 SD\n",
    "\n",
    "target = train['SalePrice']\n",
    "features = train.drop(['SalePrice'], axis = 1)\n",
    "\n",
    "# Running the Model\n",
    "def run_model(model, model_name, features, target):\n",
    "    \n",
    "    x_train, x_test, y_train, y_test = train_test_split(features, target, random_state = 100)\n",
    "    return {\n",
    "            'Model' : model,\n",
    "            'Model Name' : model_name,\n",
    "            'Train Score' : model.score(x_train, y_train),\n",
    "            'Test Score' : model.score(x_test, y_test),\n",
    "    }\n",
    "model_fit = []\n",
    "\n",
    "model_fit.append(run_model(Ridge(), 'Ridge', features, target))\n",
    "model_fit.append(run_model(Lasso(alpha = 0.1), 'Lasso', features, target))\n",
    "model_fit.append(run_model(KNeighborsRegressor(), 'KNN', features, target))\n",
    "model_fit.append(run_model(DecisionTreeRegressor(), 'Decision Tree', features, target))\n",
    "model_fit.append(run_model(SVR(), 'SVR', features, target))\n",
    "\n",
    "model_fit = pd.DataFrame(model_fit)\n",
    "cols = ['Model Name','Model', 'Train Score', 'Test Score']\n",
    "model_fit = model_fit[cols]\n",
    "model_fit"
   ]
  },
  {
   "cell_type": "code",
   "execution_count": null,
   "metadata": {},
   "outputs": [],
   "source": []
  }
 ],
 "metadata": {
  "kernelspec": {
   "display_name": "Python 3",
   "language": "python",
   "name": "python3"
  },
  "language_info": {
   "codemirror_mode": {
    "name": "ipython",
    "version": 3
   },
   "file_extension": ".py",
   "mimetype": "text/x-python",
   "name": "python",
   "nbconvert_exporter": "python",
   "pygments_lexer": "ipython3",
   "version": "3.8.5"
  }
 },
 "nbformat": 4,
 "nbformat_minor": 4
}
